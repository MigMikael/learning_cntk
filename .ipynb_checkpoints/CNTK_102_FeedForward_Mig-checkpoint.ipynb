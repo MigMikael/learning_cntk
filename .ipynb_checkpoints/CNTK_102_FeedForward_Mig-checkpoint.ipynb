{
 "cells": [
  {
   "cell_type": "markdown",
   "metadata": {},
   "source": [
    "# CNTK 102: Feed Forward Network with Simulated Data\n"
   ]
  },
  {
   "cell_type": "code",
   "execution_count": 131,
   "metadata": {
    "collapsed": true
   },
   "outputs": [],
   "source": [
    "from IPython.display import Image"
   ]
  },
  {
   "cell_type": "code",
   "execution_count": 132,
   "metadata": {},
   "outputs": [
    {
     "data": {
      "text/html": [
       "<img src=\"https://www.cntk.ai/jup/cancer_data_plot.jpg\" width=\"400\" height=\"400\"/>"
      ],
      "text/plain": [
       "<IPython.core.display.Image object>"
      ]
     },
     "execution_count": 132,
     "metadata": {},
     "output_type": "execute_result"
    }
   ],
   "source": [
    "# Figure 1\n",
    "Image(url=\"https://www.cntk.ai/jup/cancer_data_plot.jpg\", width=400, height=400)"
   ]
  },
  {
   "cell_type": "markdown",
   "metadata": {},
   "source": [
    "__Approach__ five stage of learning algorithm \n",
    "1. Data reading\n",
    "2. Data preprocessing\n",
    "3. Creating a model\n",
    "4. Learning model parameter\n",
    "5. Evaluating(testing/prediction)"
   ]
  },
  {
   "cell_type": "code",
   "execution_count": 133,
   "metadata": {},
   "outputs": [
    {
     "data": {
      "text/html": [
       "<img src=\"https://upload.wikimedia.org/wikipedia/en/5/54/Feed_forward_neural_net.gif\" width=\"200\" height=\"200\"/>"
      ],
      "text/plain": [
       "<IPython.core.display.Image object>"
      ]
     },
     "execution_count": 133,
     "metadata": {},
     "output_type": "execute_result"
    }
   ],
   "source": [
    "# Figure 2\n",
    "Image(url=\"https://upload.wikimedia.org/wikipedia/en/5/54/Feed_forward_neural_net.gif\", width=200, height=200)"
   ]
  },
  {
   "cell_type": "code",
   "execution_count": 134,
   "metadata": {
    "collapsed": true
   },
   "outputs": [],
   "source": [
    "# Import the relevant components \n",
    "from __future__ import print_function\n",
    "import matplotlib.pyplot as plt\n",
    "%matplotlib inline\n",
    "\n",
    "import numpy as np\n",
    "import sys\n",
    "import os\n",
    "\n",
    "import cntk as C\n",
    "C.cntk_py.set_fixed_random_seed(1)"
   ]
  },
  {
   "cell_type": "markdown",
   "metadata": {},
   "source": [
    "# Data Generation"
   ]
  },
  {
   "cell_type": "code",
   "execution_count": 135,
   "metadata": {
    "collapsed": true
   },
   "outputs": [],
   "source": [
    "# Ensure we always get the same amount of randomness\n",
    "np.random.seed(0)\n",
    "\n",
    "# Define the data dimensions\n",
    "input_dim = 2\n",
    "num_output_classes = 2"
   ]
  },
  {
   "cell_type": "markdown",
   "metadata": {},
   "source": [
    "## Input and Labels"
   ]
  },
  {
   "cell_type": "code",
   "execution_count": 136,
   "metadata": {
    "collapsed": true
   },
   "outputs": [],
   "source": [
    "# Helper function to generate a random data sample\n",
    "def gen_random_data_sample(sample_size, feature_dim, num_classes):\n",
    "    # Create synthetic data using Numpy.\n",
    "    Y = np.random.randint(size=(sample_size, 1), low=0, high=num_classes)\n",
    "    \n",
    "    # Make sure that the data is separable\n",
    "    X = (np.random.randn(sample_size, feature_dim)+3) * (Y+1)\n",
    "    X = X.astype(np.float32)\n",
    "    \n",
    "    # Converting class 0 into the vector \"1 0 0\",\n",
    "    # class 1 into vector \"0 1 0\"\n",
    "    class_ind = [Y==class_number for class_number in range(num_classes)]\n",
    "    Y = np.asarray(np.hstack(class_ind), dtype=np.float32)\n",
    "    \n",
    "    return X, Y"
   ]
  },
  {
   "cell_type": "code",
   "execution_count": 137,
   "metadata": {
    "collapsed": true
   },
   "outputs": [],
   "source": [
    "mysamplesize = 64\n",
    "features, labels = gen_random_data_sample(mysamplesize, input_dim, num_output_classes)"
   ]
  },
  {
   "cell_type": "code",
   "execution_count": 138,
   "metadata": {},
   "outputs": [
    {
     "data": {
      "image/png": "[encoded data removed]",
      "text/plain": [
       "<matplotlib.figure.Figure at 0x7fd30c63d080>"
      ]
     },
     "metadata": {},
     "output_type": "display_data"
    }
   ],
   "source": [
    "# Plot the data\n",
    "import matplotlib.pyplot as plt\n",
    "%matplotlib inline\n",
    "\n",
    "# given this is a 2 class\n",
    "colors = ['r' if l == 0 else 'b' for l in labels[:,0]]\n",
    "\n",
    "plt.scatter(features[:,0], features[:,1], c=colors)\n",
    "plt.xlabel(\"Scaled age (in yrs)\")\n",
    "plt.ylabel(\"Tumor size (in cm)\")\n",
    "plt.show()"
   ]
  },
  {
   "cell_type": "code",
   "execution_count": 139,
   "metadata": {},
   "outputs": [
    {
     "name": "stdout",
     "output_type": "stream",
     "text": [
      "[[  5.26975441   1.54563427]\n",
      " [  6.09151697   5.62563229]\n",
      " [  9.06555843   8.93871784]\n",
      " [  3.15494752   3.37816262]\n",
      " [  4.22442865   2.03840709]\n",
      " [  5.30417585   6.31269789]\n",
      " [  8.46058178   8.40475941]\n",
      " [  5.22534657   5.39539433]\n",
      " [  3.90289402   3.15996408]\n",
      " [  2.58745956   9.90155125]\n",
      " [  4.98069572   5.1238513 ]\n",
      " [  1.74720466   3.77749038]\n",
      " [  1.3861022    2.78725982]\n",
      " [  4.20906687   6.77380514]\n",
      " [  2.48919487   1.81936777]\n",
      " [  2.97181773   3.42833185]\n",
      " [  3.06651711   3.30247188]\n",
      " [  2.36567783   2.63725877]\n",
      " [  2.32753944   2.6404469 ]\n",
      " [  4.37370729   2.54743481]\n",
      " [  3.1774261    2.59821916]\n",
      " [  2.73960328   6.92556429]\n",
      " [  4.18540335   6.1038909 ]\n",
      " [  3.72909045   3.12898302]\n",
      " [  4.13940048   1.76517415]\n",
      " [  6.80468321   4.63037968]\n",
      " [  4.25840569   4.84230089]\n",
      " [  5.37689495   6.11233091]\n",
      " [  3.66970038   7.80165291]\n",
      " [  3.46566248   1.46375632]\n",
      " [  8.97650433   9.79177856]\n",
      " [  4.1787796    2.82007527]\n",
      " [  3.85849476   8.10890388]\n",
      " [  2.59682298   4.22244501]\n",
      " [  6.41655016   7.95327806]\n",
      " [  6.71273279   7.4131465 ]\n",
      " [  3.01049995   4.78587055]\n",
      " [  6.25382423   6.80397892]\n",
      " [  9.76630116   3.30448198]\n",
      " [  1.72951496   3.96939659]\n",
      " [  1.82687664   4.94362116]\n",
      " [  5.17276192   4.50509024]\n",
      " [  4.92294216   4.480515  ]\n",
      " [  9.73511791   7.81208944]\n",
      " [  4.27754879   9.82013035]\n",
      " [  5.46399307   7.60491276]\n",
      " [  7.89450407   5.68998003]\n",
      " [  7.22815895   7.84441328]\n",
      " [  3.3764255    1.90059924]\n",
      " [  6.59647655   8.65277195]\n",
      " [  2.30543208   2.8503654 ]\n",
      " [  5.12969303   9.69852734]\n",
      " [  7.34458971   6.81492376]\n",
      " [  4.46016788   7.07849836]\n",
      " [  4.65133476   6.0636611 ]\n",
      " [  2.36415386   3.67643332]\n",
      " [  7.15318155   5.58340263]\n",
      " [  3.39600682   1.90693843]\n",
      " [  1.50874245   3.43939161]\n",
      " [  6.33334684   7.27006292]\n",
      " [ 10.76628971   7.88895893]\n",
      " [  2.08717775   4.11701632]\n",
      " [  3.36818528   5.07683086]\n",
      " [  2.9317584    4.71334267]]\n",
      "\n",
      "[[ 1.  0.]\n",
      " [ 0.  1.]\n",
      " [ 0.  1.]\n",
      " [ 1.  0.]\n",
      " [ 0.  1.]\n",
      " [ 0.  1.]\n",
      " [ 0.  1.]\n",
      " [ 0.  1.]\n",
      " [ 0.  1.]\n",
      " [ 0.  1.]\n",
      " [ 0.  1.]\n",
      " [ 1.  0.]\n",
      " [ 1.  0.]\n",
      " [ 0.  1.]\n",
      " [ 1.  0.]\n",
      " [ 1.  0.]\n",
      " [ 1.  0.]\n",
      " [ 1.  0.]\n",
      " [ 1.  0.]\n",
      " [ 0.  1.]\n",
      " [ 1.  0.]\n",
      " [ 0.  1.]\n",
      " [ 0.  1.]\n",
      " [ 1.  0.]\n",
      " [ 1.  0.]\n",
      " [ 0.  1.]\n",
      " [ 0.  1.]\n",
      " [ 0.  1.]\n",
      " [ 0.  1.]\n",
      " [ 1.  0.]\n",
      " [ 0.  1.]\n",
      " [ 1.  0.]\n",
      " [ 0.  1.]\n",
      " [ 1.  0.]\n",
      " [ 0.  1.]\n",
      " [ 0.  1.]\n",
      " [ 1.  0.]\n",
      " [ 0.  1.]\n",
      " [ 0.  1.]\n",
      " [ 1.  0.]\n",
      " [ 1.  0.]\n",
      " [ 0.  1.]\n",
      " [ 1.  0.]\n",
      " [ 0.  1.]\n",
      " [ 0.  1.]\n",
      " [ 0.  1.]\n",
      " [ 0.  1.]\n",
      " [ 0.  1.]\n",
      " [ 1.  0.]\n",
      " [ 0.  1.]\n",
      " [ 1.  0.]\n",
      " [ 0.  1.]\n",
      " [ 0.  1.]\n",
      " [ 0.  1.]\n",
      " [ 0.  1.]\n",
      " [ 1.  0.]\n",
      " [ 0.  1.]\n",
      " [ 1.  0.]\n",
      " [ 1.  0.]\n",
      " [ 0.  1.]\n",
      " [ 0.  1.]\n",
      " [ 1.  0.]\n",
      " [ 0.  1.]\n",
      " [ 1.  0.]]\n"
     ]
    }
   ],
   "source": [
    "print(features)\n",
    "print()\n",
    "print(labels)"
   ]
  },
  {
   "cell_type": "markdown",
   "metadata": {
    "collapsed": true
   },
   "source": [
    "# Model Creation\n",
    "\n",
    "feed forward เน็ตเวิร์คของเราเป็นแบบง่ายๆ ประกอบด้วย 2 hidden layer (num_hidden_layers) โดยแต่ละเลเยอร์มี 50 โหนด(hidden_layers_dim)"
   ]
  },
  {
   "cell_type": "code",
   "execution_count": 140,
   "metadata": {},
   "outputs": [
    {
     "data": {
      "text/html": [
       "<img src=\"http://cntk.ai/jup/feedforward_network.jpg\" width=\"200\" height=\"200\"/>"
      ],
      "text/plain": [
       "<IPython.core.display.Image object>"
      ]
     },
     "execution_count": 140,
     "metadata": {},
     "output_type": "execute_result"
    }
   ],
   "source": [
    "# Figure 3\n",
    "Image(url=\"http://cntk.ai/jup/feedforward_network.jpg\", width=200, height=200)"
   ]
  },
  {
   "cell_type": "code",
   "execution_count": 141,
   "metadata": {
    "collapsed": true
   },
   "outputs": [],
   "source": [
    "num_hidden_layers = 2\n",
    "hidden_layers_dim = 50"
   ]
  },
  {
   "cell_type": "code",
   "execution_count": 142,
   "metadata": {
    "collapsed": true
   },
   "outputs": [],
   "source": [
    "# The input variable (representing 1 observation, in our example of age and size) x, which \n",
    "# in this case has a dimension of 2. \n",
    "#\n",
    "# The label variable has a dimensionality equal to the number of output classes in our case 2. \n",
    "\n",
    "input = C.input_variable(input_dim)\n",
    "label = C.input_variable(num_output_classes)"
   ]
  },
  {
   "cell_type": "markdown",
   "metadata": {},
   "source": [
    "# Feed forward network setup\n",
    "\n",
    "เราจะมานิยาม feedforward network ทีละขั้นๆ เลเยอร์แรกจะรับอินพุตฟิเจอร์เวกเตอร์ (x) ที่มีมิติ input_dim (ต่อไปนี้จะเรียกว่า m) และคืนค่าเอ้าพุตเรียกอีกชื่ว่า evidence \n",
    "\n",
    "ฟังก์ชั่น linear_layer จะทำงานสองอย่าง\n",
    "1. คูณค่าเวท(W) ด้วยฟิเจอร์ (x) \n",
    "2. บวกค่า bias (b)"
   ]
  },
  {
   "cell_type": "code",
   "execution_count": 143,
   "metadata": {
    "collapsed": true
   },
   "outputs": [],
   "source": [
    "def linear_layer(input_var, output_dim):\n",
    "    input_dim = input_var.shape[0]\n",
    "    \n",
    "    weight = C.parameter(shape=(input_dim, output_dim))\n",
    "    bias = C.parameter(shape=(output_dim))\n",
    "    \n",
    "    return bias + C.times(input_var, weight)"
   ]
  },
  {
   "cell_type": "markdown",
   "metadata": {},
   "source": [
    "The next step is to convert the evidence (the output of the linear layer) through a non-linear function a.k.a. activation functions of your choice that would squash the evidence to activations using a choice of functions (found here). Sigmoid or Tanh are historically popular. We will use sigmoid function in this tutorial. The output of the sigmoid function often is the input to the next layer or the output of the final layer.\n",
    "\n",
    "ขั้นต่อไปคือการแปลงผลลัพธ์จาก linear layer โดยใช้ฟังก์ชั่น non-linear หรือที่เรียกกันว่า activation function ตามชอยส์ที่เราเลือก Sigmoid หรือ Tanh เป็นสองฟังก์ชั้นที่ได้รับความนิยมในอดีต. เราจะใช้ sigmoid function สำหรับแบบฝึกหัดนี้. บ่อยครังที่ผลลัพธ์จาก sigmoid function กลายเป็นอินพุตให้กับเลเยอร์ถัดไป หรือเป็นเอ้าพุตของเลเยอร์สุดท้าย"
   ]
  },
  {
   "cell_type": "code",
   "execution_count": 144,
   "metadata": {
    "collapsed": true
   },
   "outputs": [],
   "source": [
    "def dense_layer(input_var, output_dim, nonlinearity):\n",
    "    l = linear_layer(input_var, output_dim)\n",
    "    \n",
    "    return nonlinearity(l)"
   ]
  },
  {
   "cell_type": "markdown",
   "metadata": {},
   "source": [
    "ตอนนี้เราก็ได้สร้าง hidden layer หนึ่งชั้น เราต้องการหลายๆชั้น เพื่อสร้างตัวแบ่ง(Classifier) ที่เชื่อมถึงกันหมด (fully connnected). ผลลัพธ์ที่ได้จากเลเยอร์แรกเรียก h1 กลายเป็นอินพุตให้กับเลเยอร์ถัดไป\n",
    "\n",
    "ในตัวอย่างเรามี 2 เลเยอร์ ดังนั้นเราจึงควรเขียนโค้ดดังนี้\n",
    "    >h1 = dense_layer(input_var, hidden_layer_dim, sigmoid)\n",
    "    >h2 = dense_layer(h1, hidden_layer_dim, sigmoid)\n",
    "    \n",
    "เพื่อให้ดูง่ายขึ้นเมื่อมี hidden layer หลายๆ ชั้น เราจึงนิยมเขียนแบบนี้ \n",
    "   >h = dense_layer(input_var, hidden_layer_dim, sigmoid)\n",
    "   >for i in range(1, num_hidden_layers):\n",
    "       >>h = dense_layer(h, hidden_layer_dim, sigmoid)"
   ]
  },
  {
   "cell_type": "code",
   "execution_count": 145,
   "metadata": {
    "collapsed": true
   },
   "outputs": [],
   "source": [
    "def fully_connected_classifier_net(input_var, num_output_classes, hidden_layer_dim, num_hidden_layers, nonlinearity):\n",
    "    h = dense_layer(input_var, hidden_layer_dim, nonlinearity)\n",
    "    for i in range(1, num_hidden_layers):\n",
    "        h = dense_layer(h, hidden_layer_dim, nonlinearity)\n",
    "        \n",
    "    return linear_layer(h, num_output_classes)"
   ]
  },
  {
   "cell_type": "code",
   "execution_count": 146,
   "metadata": {
    "collapsed": true
   },
   "outputs": [],
   "source": [
    "z = fully_connected_classifier_net(input, num_output_classes, hidden_layers_dim, num_hidden_layers, C.sigmoid)"
   ]
  },
  {
   "cell_type": "markdown",
   "metadata": {},
   "source": [
    "วิธีการที่เสนอด้านบนช่วยให้เข้าใจการสร้างเน็ตเวิร์คโดยใช้ CNTK มากขึ้น แต่วิธีที่สะดวกและเป็นที่นิยมมากว่าคือใช้ Layer Library ซึ่งมีการนิยามเลเยอร์ที่ใช้กันบ่อยๆเอาไว้แล้ว(เป็นบล็อคคล้าย Lego) ยกตัวอย่างเช่น Dense Layer ฟังก์ชั่นเราสามารถส่งค่าอินพุตเข้าไปที่ฟังก์ชั่นนี้แล้วได้เอ้าพุตออกมาได้เลย"
   ]
  },
  {
   "cell_type": "code",
   "execution_count": 147,
   "metadata": {
    "collapsed": true
   },
   "outputs": [],
   "source": [
    "def create_model(features):\n",
    "    with C.layers.default_options(init=C.layers.glorot_uniform(), activation=C.sigmoid):\n",
    "        h = features\n",
    "        for _ in range(num_hidden_layers):\n",
    "            h = C.layers.Dense(hidden_layers_dim)(h)\n",
    "        last_layer = C.layers.Dense(num_output_classes, activation = None)\n",
    "        \n",
    "        return last_layer(h)\n",
    "    \n",
    "z = create_model(input)"
   ]
  },
  {
   "cell_type": "markdown",
   "metadata": {},
   "source": [
    "# Training"
   ]
  },
  {
   "cell_type": "code",
   "execution_count": 148,
   "metadata": {
    "collapsed": true
   },
   "outputs": [],
   "source": [
    "loss = C.cross_entropy_with_softmax(z, label)"
   ]
  },
  {
   "cell_type": "code",
   "execution_count": 149,
   "metadata": {
    "collapsed": true
   },
   "outputs": [],
   "source": [
    "eval_error = C.classification_error(z, label)"
   ]
  },
  {
   "cell_type": "markdown",
   "metadata": {},
   "source": [
    "## Configure training"
   ]
  },
  {
   "cell_type": "code",
   "execution_count": 150,
   "metadata": {},
   "outputs": [],
   "source": [
    "learning_rate = 0.5\n",
    "lr_schedule = C.learning_rate_schedule(learning_rate, C.UnitType.minibatch)\n",
    "learner = C.sgd(z.parameters, lr_schedule)\n",
    "#learner = fsadagrad(z.parameters(), 0.02, 0, targetAdagradAvDenom=1)\n",
    "trainer = C.Trainer(z, (loss, eval_error), [learner])"
   ]
  },
  {
   "cell_type": "markdown",
   "metadata": {},
   "source": [
    "สร้างฟังก์ชั่นที่ช่วยในการแสดงผลระหว่างทำการ Training"
   ]
  },
  {
   "cell_type": "code",
   "execution_count": 151,
   "metadata": {
    "collapsed": true
   },
   "outputs": [],
   "source": [
    "# Define a utility function to compute the moving average sum.\n",
    "# A more efficient implementation is possible with np.cumsum() function\n",
    "def moving_average(a, w = 10):\n",
    "    if len(a) < w:\n",
    "        return a[:]\n",
    "    return [val if idx < w else sum(a[(idx-w):idx])/w for idx, val in enumerate(a)]\n",
    "\n",
    "\n",
    "# Defines a utility that prints the training progress\n",
    "def print_training_progress(trainer, mb, frequency, verbose=1):\n",
    "    training_loss = \"NA\"\n",
    "    eval_error = \"NA\"\n",
    "    \n",
    "    if mb % frequency == 0:\n",
    "        training_loss = trainer.previous_minibatch_loss_average\n",
    "        eval_error = trainer.previous_minibatch_evaluation_average\n",
    "        if verbose:\n",
    "            print(\"Minibatch: {}, Train Loss: {}, Train Error: {}\".format(mb, training_loss, eval_error))\n",
    "            \n",
    "    return mb, training_loss, eval_error"
   ]
  },
  {
   "cell_type": "markdown",
   "metadata": {},
   "source": [
    "## Run the Trainer"
   ]
  },
  {
   "cell_type": "code",
   "execution_count": 152,
   "metadata": {},
   "outputs": [],
   "source": [
    "minibatch_size = 25\n",
    "num_samples = 100000\n",
    "num_minibatches_to_train = num_samples / minibatch_size"
   ]
  },
  {
   "cell_type": "code",
   "execution_count": 153,
   "metadata": {},
   "outputs": [],
   "source": [
    "# Run the trainer and perform model training\n",
    "training_progress_output_freq = 20\n",
    "\n",
    "plotdata = {\"batchsize\":[], \"loss\":[], \"error\":[]}\n",
    "\n",
    "for i in range(0, int(num_minibatches_to_train)):\n",
    "    features, labels = gen_random_data_sample(minibatch_size, input_dim, num_output_classes)\n",
    "    \n",
    "    trainer.train_minibatch({input : features, label : labels})\n",
    "    batchsize, loss, error = print_training_progress(trainer, i, training_progress_output_freq, verbose=0)\n",
    "    \n",
    "    if not (loss == \"NA\" or error == \"NA\"):\n",
    "        plotdata[\"batchsize\"].append(batchsize)\n",
    "        plotdata[\"loss\"].append(loss)\n",
    "        plotdata[\"error\"].append(error)"
   ]
  },
  {
   "cell_type": "code",
   "execution_count": 154,
   "metadata": {},
   "outputs": [
    {
     "data": {
      "image/png": "[encoded data removed]",
      "text/plain": [
       "<matplotlib.figure.Figure at 0x7fd306c13940>"
      ]
     },
     "metadata": {},
     "output_type": "display_data"
    },
    {
     "data": {
      "image/png": "[encoded data removed]",
      "text/plain": [
       "<matplotlib.figure.Figure at 0x7fd3068c75c0>"
      ]
     },
     "metadata": {},
     "output_type": "display_data"
    }
   ],
   "source": [
    "# Compute the moving average loss to smooth out the noise in SGD\n",
    "plotdata[\"avgloss\"] = moving_average(plotdata[\"loss\"])\n",
    "plotdata[\"avgerror\"] = moving_average(plotdata[\"error\"])\n",
    "\n",
    "# Plot the training loss and the training error\n",
    "import matplotlib.pyplot as plt\n",
    "\n",
    "plt.figure(1)\n",
    "plt.subplot(211)\n",
    "plt.plot(plotdata[\"batchsize\"], plotdata[\"avgloss\"], 'b--')\n",
    "plt.xlabel('Minibatch number')\n",
    "plt.ylabel('Loss')\n",
    "plt.title('Minibatch run vs. Training loss')\n",
    "\n",
    "plt.show()\n",
    "\n",
    "plt.subplot(212)\n",
    "plt.plot(plotdata[\"batchsize\"], plotdata[\"avgerror\"], 'r--')\n",
    "plt.xlabel('Minibatch number')\n",
    "plt.ylabel('Label Prediction Error')\n",
    "plt.title('Minibatch run vs. Label Prediction Error')\n",
    "plt.show()"
   ]
  },
  {
   "cell_type": "markdown",
   "metadata": {},
   "source": [
    "# Evaluation / Testing"
   ]
  },
  {
   "cell_type": "code",
   "execution_count": 155,
   "metadata": {},
   "outputs": [
    {
     "data": {
      "text/plain": [
       "0.12"
      ]
     },
     "execution_count": 155,
     "metadata": {},
     "output_type": "execute_result"
    }
   ],
   "source": [
    "test_minibatch_size = 25\n",
    "features, labels = gen_random_data_sample(test_minibatch_size, input_dim, num_output_classes)\n",
    "\n",
    "trainer.test_minibatch({input : features, label : labels})"
   ]
  },
  {
   "cell_type": "code",
   "execution_count": 156,
   "metadata": {
    "collapsed": true
   },
   "outputs": [],
   "source": [
    "out = C.softmax(z)"
   ]
  },
  {
   "cell_type": "code",
   "execution_count": 157,
   "metadata": {
    "collapsed": true
   },
   "outputs": [],
   "source": [
    "predicted_label_probs = out.eval({input : features})"
   ]
  },
  {
   "cell_type": "code",
   "execution_count": 158,
   "metadata": {},
   "outputs": [
    {
     "name": "stdout",
     "output_type": "stream",
     "text": [
      "Label :       [1, 0, 0, 1, 1, 0, 0, 0, 1, 0, 0, 1, 0, 1, 0, 0, 1, 1, 0, 1, 1, 1, 0, 1, 0]\n",
      "Predicted:  [1, 0, 0, 1, 0, 0, 0, 0, 1, 0, 0, 1, 0, 1, 0, 0, 1, 0, 0, 1, 0, 1, 0, 1, 0]\n"
     ]
    }
   ],
   "source": [
    "print(\"Label :      \", [np.argmax(label) for label in labels])\n",
    "print(\"Predicted: \", [np.argmax(row) for row in predicted_label_probs])"
   ]
  },
  {
   "cell_type": "code",
   "execution_count": 159,
   "metadata": {},
   "outputs": [
    {
     "name": "stdout",
     "output_type": "stream",
     "text": [
      "Miss Count : 3\n"
     ]
    }
   ],
   "source": [
    "count = 0\n",
    "for i in range(len(labels)):\n",
    "    if np.argmax(labels[i]) != np.argmax(predicted_label_probs[i]):\n",
    "        count += 1\n",
    "\n",
    "print(\"Miss Count : \" + str(count))"
   ]
  },
  {
   "cell_type": "code",
   "execution_count": 160,
   "metadata": {},
   "outputs": [
    {
     "name": "stdout",
     "output_type": "stream",
     "text": [
      "Miss Percentage : 12.0\n"
     ]
    }
   ],
   "source": [
    "percentage = (count / test_minibatch_size) * 100\n",
    "print(\"Miss Percentage : \" + str(percentage))"
   ]
  },
  {
   "cell_type": "markdown",
   "metadata": {},
   "source": [
    "### Try exploring how the classifier behaves with different data distributions, e.g. changing the minibatch_size parameter from 25 to say 64. What happens to the error rate? How does the error compare to the logistic regression classifier?"
   ]
  },
  {
   "cell_type": "markdown",
   "metadata": {},
   "source": [
    "### num_sample_to_train = 20000"
   ]
  },
  {
   "cell_type": "markdown",
   "metadata": {},
   "source": [
    "- Minibatch Size = 64 \n",
    "- Miss Count = 5 \n",
    "- Miss Percentage = 7.8125 %"
   ]
  },
  {
   "cell_type": "markdown",
   "metadata": {},
   "source": [
    "- Minibatch Size = 25\n",
    "- Miss Count = 3\n",
    "- Miss Percentage = 12.0 %"
   ]
  },
  {
   "cell_type": "markdown",
   "metadata": {},
   "source": [
    "Logistic Regression\n",
    "- Minibatch Size = 25\n",
    "- Miss Count = 5\n",
    "- Miss Percentage = 20 %"
   ]
  },
  {
   "cell_type": "markdown",
   "metadata": {},
   "source": [
    "### num_sample_to_train = 100000"
   ]
  },
  {
   "cell_type": "markdown",
   "metadata": {},
   "source": [
    "Logistic Regression\n",
    "- Minibatch Size = 25\n",
    "- Miss Count = 2\n",
    "- Miss Percentage = 8 %"
   ]
  },
  {
   "cell_type": "markdown",
   "metadata": {},
   "source": [
    "Feed Forward\n",
    "- Minibatch Size = 25\n",
    "- Miss Count = 3\n",
    "- Miss Percentage = 12 %"
   ]
  },
  {
   "cell_type": "code",
   "execution_count": null,
   "metadata": {
    "collapsed": true
   },
   "outputs": [],
   "source": []
  }
 ],
 "metadata": {
  "kernelspec": {
   "display_name": "Python 3",
   "language": "python",
   "name": "python3"
  },
  "language_info": {
   "codemirror_mode": {
    "name": "ipython",
    "version": 3
   },
   "file_extension": ".py",
   "mimetype": "text/x-python",
   "name": "python",
   "nbconvert_exporter": "python",
   "pygments_lexer": "ipython3",
   "version": "3.6.2"
  }
 },
 "nbformat": 4,
 "nbformat_minor": 2
}
